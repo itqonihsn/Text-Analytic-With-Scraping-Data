{
 "cells": [
  {
   "cell_type": "code",
   "execution_count": 34,
   "metadata": {},
   "outputs": [],
   "source": [
    "import pandas as pd\n",
    "import numpy as np\n",
    "import matplotlib.pyplot as plt\n",
    "import json, tweepy, requests, re, string\n",
    "import nltk\n",
    "from nltk.tokenize import word_tokenize\n",
    "from nltk.tokenize import wordpunct_tokenize\n",
    "from nltk.corpus import stopwords\n",
    "from Sastrawi.Stemmer.StemmerFactory import StemmerFactory as SF\n",
    "from nltk.probability import FreqDist\n",
    "import matplotlib.pyplot as plt\n",
    "from urllib.request import urlopen, Request\n",
    "from bs4 import BeautifulSoup as bs\n",
    "from sklearn.feature_extraction.text import TfidfVectorizer\n",
    "from sklearn.naive_bayes import GaussianNB\n",
    "from sklearn.model_selection import train_test_split\n",
    "from sklearn.metrics import classification_report, confusion_matrix, accuracy_score\n",
    "from wordcloud import WordCloud, wordcloud\n",
    "import networkx as nx"
   ]
  },
  {
   "cell_type": "code",
   "execution_count": 14,
   "metadata": {},
   "outputs": [],
   "source": [
    "def web_scraping(alamat_url):\n",
    "    user_agent = 'Mozilla/5.0 (Windows NT 10.0; Win64; x64) AppleWebKit/537.36 (KHTML, like Gecko) Chrome/111.0.0.0 Safari/537.36 Edg/111.0.1661.44'\n",
    "    headers = {'User-Agent': user_agent, 'Accept':'image/avif,image/webp,image/apng,image/svg+xml,image/*,*/*;q=0.8'}\n",
    "\n",
    "    alamat = alamat_url\n",
    "    req = Request(alamat, headers=headers)\n",
    "    html = urlopen(req)\n",
    "\n",
    "    data = bs(html, 'html.parser')\n",
    "    berita = data.find_all(\"div\", {\"class\":\"detail__body-text itp_bodycontent\"})\n",
    "    judul = data.find_all(\"h1\", {\"class\":\"detail__title\"})\n",
    "    judul_berita = [judul.get_text() for judul in judul]\n",
    "    teks_berita = [berita.get_text() for berita in berita]\n",
    "    df_berita = pd.DataFrame(judul_berita, columns=['judul'])\n",
    "    df_berita['teks'] = teks_berita\n",
    "    \n",
    "    return df_berita"
   ]
  },
  {
   "cell_type": "code",
   "execution_count": 20,
   "metadata": {},
   "outputs": [],
   "source": [
    "hal_1 = web_scraping('https://sport.detik.com/sepakbola/liga-spanyol/d-6636530/oezil-el-clasico-sekarang-tak-seseru-dulu')\n",
    "hal_2 = web_scraping('https://sport.detik.com/sepakbola/liga-inggris/d-6636527/gullit-ten-hag-diuntungkan-dengan-kontroversi-ronaldo-di-mu')\n",
    "hal_3 = web_scraping('https://sport.detik.com/sepakbola/bola-dunia/d-6636509/gol-terjauh-di-laga-bola-dari-goal-kick-kiper-jebol-gawang-lawan')\n",
    "hal_4 = web_scraping('https://sport.detik.com/sepakbola/gila-bola/d-6636311/saat-messi-pilih-dikepung-ratusan-orang-ketimbang-kabur')\n",
    "hal_5 = web_scraping('https://sport.detik.com/sepakbola/liga-inggris/d-6635800/lindelof-minim-bermain-ingin-tinggalkan-mu')\n",
    "hal_6 = web_scraping('https://sport.detik.com/sepakbola/liga-indonesia/d-6635744/gandeng-weird-genius-fifa-umumkan-lagu-resmi-piala-dunia-u-20')\n",
    "hal_7 = web_scraping('https://sport.detik.com/sepakbola/bola-dunia/d-6635192/lionel-messi-sudah-tembus-800-gol')\n",
    "hal_8 = web_scraping('https://sport.detik.com/sepakbola/liga-inggris/d-6634821/de-zerbi-dianggap-cocok-gantikan-klopp-di-liverpool?_ga=2.204684048.1411062473.1679575878-1860909170.1679368667')\n",
    "hal_9 = web_scraping('https://sport.detik.com/sepakbola/liga-inggris/d-6634819/pengusaha-finlandia-ajukan-tawaran-buat-mu-ajak-fans-partisipasi?_ga=2.204684048.1411062473.1679575878-1860909170.1679368667')\n",
    "hal_10 = web_scraping('https://sport.detik.com/sepakbola/bola-dunia/d-6634276/jika-inggris-juara-euro-2024-southgate-mungkin-bertahan?_ga=2.231347871.1411062473.1679575878-1860909170.1679368667')\n",
    "hal_11 = web_scraping('https://sport.detik.com/sepakbola/liga-spanyol/d-6616149/xavi-sedih-barcelona-diledek-dengan-sebutan-mafia?_ga=2.192533290.1411062473.1679575878-1860909170.1679368667')\n",
    "hal_12 = web_scraping('https://sport.detik.com/sepakbola/liga-inggris/d-6633951/saran-buat-chelsea-lepas-mount-dan-pulisic-permanenkan-joao-felix?_ga=2.261248909.1411062473.1679575878-1860909170.1679368667')\n",
    "hal_13 = web_scraping('https://sport.detik.com/sepakbola/bola-dunia/d-6633516/griezmann-marah-karena-tak-jadi-kapten-prancis-deschamps-bilang-gini?_ga=2.261248909.1411062473.1679575878-1860909170.1679368667')\n",
    "hal_14 = web_scraping('https://sport.detik.com/sepakbola/bola-dunia/d-6633474/ronaldo-sempat-pertimbangkan-pensiun-dari-portugal-usai-piala-dunia-2022?_ga=2.261248909.1411062473.1679575878-1860909170.1679368667')\n",
    "hal_15 = web_scraping('https://sport.detik.com/sepakbola/liga-inggris/d-6633466/ronaldo-akhirnya-buka-suara-soal-kepergiannya-dari-mu?_ga=2.30659263.1411062473.1679575878-1860909170.1679368667')\n",
    "hal_16 = web_scraping('https://sport.detik.com/sepakbola/bola-dunia/d-6633410/wasit-mesir-ini-diskors-gegara-anulir-gol-modal-hp-penonton?_ga=2.30659263.1411062473.1679575878-1860909170.1679368667')\n",
    "hal_17 = web_scraping('https://sport.detik.com/sepakbola/bola-dunia/d-6633409/kritik-pedas-lahm-pada-psg-seperti-toko-mewah-tapi-hambar?_ga=2.30659263.1411062473.1679575878-1860909170.1679368667')\n",
    "hal_18 = web_scraping('https://sport.detik.com/sepakbola/bola-dunia/d-6633406/ruediger-bakal-ceritakan-kehebatan-oezil-ke-anak-cucu?_ga=2.30659263.1411062473.1679575878-1860909170.1679368667')\n",
    "hal_19 = web_scraping('https://sport.detik.com/sepakbola/bola-dunia/d-6633171/mesut-oezil-umumkan-pensiun-dari-sepakbola?_ga=2.239801091.1411062473.1679575878-1860909170.1679368667')\n",
    "hal_20 = web_scraping('https://sport.detik.com/sepakbola/gila-bola/d-6632922/pria-ini-marah-naik-motor-masuk-lapangan-ganggu-pertandingan-bola?_ga=2.239801091.1411062473.1679575878-1860909170.1679368667')\n",
    "hal_21 = web_scraping('https://sport.detik.com/sepakbola/bola-dunia/d-6632790/cara-grealish-healing-usai-gagal-di-piala-dunia-tur-home-alone?_ga=2.239801091.1411062473.1679575878-1860909170.1679368667')\n",
    "hal_22 = web_scraping('https://sport.detik.com/sepakbola/liga-italia/d-6632787/rabiot-inter-tidak-sekuat-musim-lalu?_ga=2.3291056.1411062473.1679575878-1860909170.1679368667')\n",
    "hal_23 = web_scraping('https://sport.detik.com/sepakbola/gila-bola/d-6632574/senyum-messi-dikepung-ratusan-orang?_ga=2.3291056.1411062473.1679575878-1860909170.1679368667')\n",
    "hal_24 = web_scraping('https://sport.detik.com/sepakbola/bola-dunia/d-6631954/ederson-klaim-ancelotti-bakal-latih-timnas-brasil')\n",
    "hal_25 = web_scraping('https://sport.detik.com/sepakbola/liga-spanyol/d-6631948/suporter-rasis-ke-vinicius-dihukum-larangan-ke-stadion-3-tahun')\n",
    "hal_26 = web_scraping('https://sport.detik.com/sepakbola/liga-italia/d-6631938/ibrahimovic-takut-pensiun')\n",
    "hal_27 = web_scraping('https://sport.detik.com/sepakbola/liga-inggris/d-6631923/dear-conte-pemain-tottenham-tak-senang-disebut-egois')\n",
    "hal_28 = web_scraping('https://sport.detik.com/sepakbola/bola-dunia/d-6631901/mbappe-resmi-jadi-kapten-timnas-prancis-griezmann-wakilnya')\n",
    "hal_29 = web_scraping('https://sport.detik.com/sepakbola/liga-indonesia/d-6631825/wasit-fariq-hitaba-bicara-polemik-timnas-israel-di-piala-dunia-u-20?_ga=2.230748831.1411062473.1679575878-1860909170.1679368667')\n",
    "hal_30 = web_scraping('https://sport.detik.com/sepakbola/bola-dunia/d-6631187/haaland-dipulangkan-dari-skuad-norwegia-karena-cedera?_ga=2.269146993.1411062473.1679575878-1860909170.1679368667')\n",
    "hal_31 = web_scraping('https://sport.detik.com/sepakbola/liga-indonesia/d-6631100/sosok-plt-di-asprov-dki-diharapkan-bisa-benahi-roda-organisasi?_ga=2.269146993.1411062473.1679575878-1860909170.1679368667')\n",
    "hal_32 = web_scraping('https://sport.detik.com/sepakbola/liga-inggris/d-6630768/mitrovic-dorong-wasit-kena-kartu-merah-bruno-fernandes-kok-nggak?_ga=2.269146993.1411062473.1679575878-1860909170.1679368667')\n",
    "hal_33 = web_scraping('https://sport.detik.com/sepakbola/liga-inggris/d-6630465/dorong-wasit-mitrovic-terancam-tak-bisa-main-lebih-dari-10-laga?_ga=2.269146993.1411062473.1679575878-1860909170.1679368667')\n",
    "hal_34 = web_scraping('https://sport.detik.com/sepakbola/bola-dunia/d-6630216/jadwal-jeda-internasional-italia-vs-inggris-jadi-teman-sahur?_ga=2.269146993.1411062473.1679575878-1860909170.1679368667')\n",
    "hal_35 = web_scraping('https://sport.detik.com/sepakbola/bola-dunia/d-6629805/deschamps-kecewa-ditinggal-pensiun-varane?_ga=2.269146993.1411062473.1679575878-1860909170.1679368667')\n",
    "hal_36 = web_scraping('https://sport.detik.com/sepakbola/gila-bola/d-6629491/kutukan-kim-kardashian-kemarin-arsenal-kini-psg-yang-jadi-korban?_ga=2.190050987.1411062473.1679575878-1860909170.1679368667')\n",
    "hal_37 = web_scraping('https://sport.detik.com/sepakbola/liga-indonesia/d-6629202/proses-naturalisasi-tiga-pemain-keturunan-untuk-timnas-u-20-sudah-oke?_ga=2.190050987.1411062473.1679575878-1860909170.1679368667')\n",
    "hal_38 = web_scraping('https://sport.detik.com/sepakbola/liga-italia/d-6627982/allegri-juventus-gentlemen-tidak-bicara-soal-wasit?_ga=2.190050987.1411062473.1679575878-1860909170.1679368667')\n",
    "hal_39 = web_scraping('https://sport.detik.com/sepakbola/gila-bola/d-6627659/alumni-elektro-juara-di-ia-itb-cup-2023?_ga=2.190050987.1411062473.1679575878-1860909170.1679368667')\n",
    "hal_40 = web_scraping('https://sport.detik.com/sepakbola/liga-indonesia/d-6627310/pssi-kebut-penyelesaian-naturalisasi-pemain-dua-pekan-selesai?_ga=2.190050987.1411062473.1679575878-1860909170.1679368667')\n",
    "hal_41 = web_scraping('https://sport.detik.com/sepakbola/liga-indonesia/d-6627248/pssi-bikin-turnamen-liga-2-dan-liga-3-pada-juni-2023?_ga=2.190050987.1411062473.1679575878-1860909170.1679368667')\n",
    "hal_42 = web_scraping('https://sport.detik.com/sepakbola/liga-indonesia/d-6627187/indonesia-jalin-kerja-sama-dengan-jepang-soal-liga?_ga=2.190050987.1411062473.1679575878-1860909170.1679368667')\n",
    "hal_43 = web_scraping('https://sport.detik.com/sepakbola/liga-spanyol/d-6627115/jelang-el-clasico-xavi-barca-takkan-goyah-oleh-isu-wasit?_ga=2.190050987.1411062473.1679575878-1860909170.1679368667')\n",
    "hal_44 = web_scraping('https://sport.detik.com/sepakbola/liga-indonesia/d-6626966/rencana-indonesia-hadapi-argentina-diledek-fans-malaysia?_ga=2.260765453.1411062473.1679575878-1860909170.1679368667')\n",
    "hal_45 = web_scraping('https://sport.detik.com/sepakbola/liga-spanyol/d-6626710/jelang-el-clasico-barcelona-enggan-bahas-skandal-suap-wasit?_ga=2.260765453.1411062473.1679575878-1860909170.1679368667')\n",
    "hal_46 = web_scraping('https://sport.detik.com/sepakbola/liga-spanyol/d-6626413/araujo-tak-sabar-ingin-mainkan-el-clasico-pertamanya-di-camp-nou')\n",
    "hal_47 = web_scraping('https://sport.detik.com/sepakbola/gila-bola/d-6626393/muda-kerja-keras-tua-foya-foya-ala-adebayor')\n",
    "hal_48 = web_scraping('https://sport.detik.com/sepakbola/liga-spanyol/d-6626247/5-fakta-vinicius-jelang-el-clasico-diam-diam-suka-barcelona')\n",
    "hal_49 = web_scraping('https://sport.detik.com/sepakbola/liga-indonesia/d-6625942/12-pemainnya-ke-timnas-persija-minta-laga-kontra-persita-ditunda')\n",
    "hal_50 = web_scraping('https://sport.detik.com/sepakbola/bola-dunia/d-6625611/tangis-eks-liverpool-lucas-leiva-harus-pensiun-karena-masalah-jantung')\n",
    "hal_51 = web_scraping('https://sport.detik.com/sepakbola/bola-dunia/d-6625611/tangis-eks-liverpool-lucas-leiva-harus-pensiun-karena-masalah-jantung')\n",
    "hal_52 = web_scraping('https://sport.detik.com/sepakbola/uefa/d-6625443/benfica-vs-inter-milan-kenangan-indah-nerazzurri-tahun-1965')\n",
    "hal_53 = web_scraping('https://sport.detik.com/sepakbola/liga-spanyol/d-6625435/courtois-ungkap-kekecewaan-eden-hazard-di-madrid')\n",
    "hal_54 = web_scraping('https://sport.detik.com/sepakbola/uefa/d-6625434/haaland-mungkin-kepingan-yang-selama-ini-dicari-man-city')\n",
    "hal_55 = web_scraping('https://sport.detik.com/sepakbola/uefa/d-6625354/alisson-kritik-liverpool-usai-disingkirkan-madrid-kurang-semangat')\n",
    "hal_56 = web_scraping('https://sport.detik.com/sepakbola/liga-spanyol/d-6625229/jika-terbukti-suap-wasit-barcelona-terancam-degradasi')\n",
    "hal_57 = web_scraping('https://sport.detik.com/sepakbola/liga-indonesia/d-6625176/soal-nasib-6-venue-piala-dunia-pssi-pasrah-dengan-keputusan-fifa')\n",
    "hal_58 = web_scraping('https://sport.detik.com/sepakbola/liga-indonesia/d-6625176/soal-nasib-6-venue-piala-dunia-pssi-pasrah-dengan-keputusan-fifa')\n",
    "hal_59 = web_scraping('https://sport.detik.com/sepakbola/uefa/d-6625097/calon-favorit-juara-liga-champions-city-pertama-milan-terbawah')\n",
    "hal_60 = web_scraping('https://sport.detik.com/sepakbola/uefa/d-6624937/hasil-drawing-perempatfinal-liga-champions-real-madrid-vs-chelsea')\n",
    "hal_61 = web_scraping('https://sport.detik.com/sepakbola/liga-inggris/d-6624437/conte-kasih-kode-harry-kane-akan-tinggalkan-spurs')\n",
    "hal_62 = web_scraping('https://sport.detik.com/sepakbola/liga-indonesia/d-6623721/usai-kongres-fifa-erick-thohir-jajaki-kerja-sama-dengan-federasi-australia')\n",
    "hal_63 = web_scraping('https://sport.detik.com/sepakbola/uefa/d-6623714/jangan-bersedih-arsenal-masih-ada-premier-league-kok')\n",
    "hal_64 = web_scraping('https://sport.detik.com/sepakbola/liga-inggris/d-6623560/musim-stefan-bajcetic-selesai')\n",
    "hal_65 = web_scraping('https://sport.detik.com/sepakbola/gila-bola/d-6623130/cerita-ronaldinho-di-penjara-takut-digebukin-eh-disuruh-main-bola')\n",
    "hal_66 = web_scraping('https://sport.detik.com/sepakbola/bola-dunia/d-6623443/gianni-infantino-kembali-jadi-presiden-fifa-erick-thohir-beri-selamat?_ga=2.238214656.1411062473.1679575878-1860909170.1679368667')\n",
    "hal_67 = web_scraping('https://sport.detik.com/sepakbola/uefa/d-6623123/courtois-ingin-madrid-hindari-man-city-atau-chelsea-di-perempatfinal?_ga=2.238214656.1411062473.1679575878-1860909170.1679368667')\n",
    "hal_68 = web_scraping('https://sport.detik.com/sepakbola/liga-inggris/d-6622368/klopp-laga-lawan-city-chelsea-arsenal-akan-tentukan-musim-liverpool?_ga=2.38464803.1411062473.1679575878-1860909170.1679368667')\n",
    "hal_69 = web_scraping('https://sport.detik.com/sepakbola/liga-indonesia/d-6622144/ketum-pssi-erick-thohir-agendakan-timnas-indonesia-vs-palestina?_ga=2.38464803.1411062473.1679575878-1860909170.1679368667')\n",
    "hal_70 = web_scraping('https://sport.detik.com/sepakbola/uefa/d-6621565/betis-vs-mu-pellegrini-belum-mau-lempar-handuk?_ga=2.38464803.1411062473.1679575878-1860909170.1679368667')\n",
    "hal_71 = web_scraping('https://sport.detik.com/sepakbola/liga-indonesia/d-6621715/simic-menang-gugatan-di-fifa-persija-wajib-bayar-tunggakan-rp-7-miliar?_ga=2.38464803.1411062473.1679575878-1860909170.1679368667')\n",
    "hal_72 = web_scraping('https://sport.detik.com/sepakbola/uefa/d-6621546/inter-minta-uefa-usut-insiden-fans-terkurung-di-markas-porto?_ga=2.38464803.1411062473.1679575878-1860909170.1679368667')\n",
    "hal_73 = web_scraping('https://sport.detik.com/sepakbola/liga-spanyol/d-6621478/laliga-ngamuk-ke-fifa?_ga=2.234020510.1411062473.1679575878-1860909170.1679368667')\n",
    "hal_74 = web_scraping('https://sport.detik.com/sepakbola/liga-indonesia/d-6621475/erick-thohir-presiden-afc-dukung-pembenahan-total-pssi?_ga=2.234020510.1411062473.1679575878-1860909170.1679368667')\n",
    "hal_75 = web_scraping('https://sport.detik.com/sepakbola/uefa/d-6621450/man-city-mau-juara-liga-champions-langkahi-dulu-tim-ini?_ga=2.234020510.1411062473.1679575878-1860909170.1679368667')\n",
    "hal_76 = web_scraping('https://sport.detik.com/sepakbola/liga-inggris/d-6620970/eks-tottenham-memohon-ke-city-jangan-biarkan-arsenal-juara?_ga=2.234020510.1411062473.1679575878-1860909170.1679368667')\n",
    "hal_77 = web_scraping('https://sport.detik.com/sepakbola/gila-bola/d-6620823/viral-pemain-akademi-mu-merdu-lantunkan-ayat-suci-al-quran?_ga=2.234020510.1411062473.1679575878-1860909170.1679368667')\n",
    "hal_78 = web_scraping('https://sport.detik.com/sepakbola/bola-dunia/d-6619541/maroko-bidik-tuan-rumah-piala-dunia-2030-bareng-spanyol-portugal?_ga=2.234020510.1411062473.1679575878-1860909170.1679368667')\n",
    "hal_79 = web_scraping('https://sport.detik.com/sepakbola/liga-inggris/d-6619399/mu-pastikan-garnacho-cedera-pergelangan-kaki-absen-beberapa-pekan?_ga=2.234020510.1411062473.1679575878-1860909170.1679368667')\n",
    "hal_80 = web_scraping('https://sport.detik.com/sepakbola/liga-spanyol/d-6619376/ancelotti-perang-dingin-dengan-hazard-tidak-tuh?_ga=2.234020510.1411062473.1679575878-1860909170.1679368667')\n",
    "hal_81 = web_scraping('https://sport.detik.com/sepakbola/liga-indonesia/d-6619340/koni-apresiasi-persiapan-gelaran-piala-dunia-u-20-2023?_ga=2.192495402.1411062473.1679575878-1860909170.1679368667')\n",
    "hal_82 = web_scraping('https://sport.detik.com/sepakbola/liga-indonesia/d-6619318/melihat-90-tahun-perjalanan-persib-bandung?_ga=2.192495402.1411062473.1679575878-1860909170.1679368667')\n",
    "hal_83 = web_scraping('https://sport.detik.com/sepakbola/uefa/d-6619034/presiden-la-liga-bersyukur-psg-kembali-gagal-juara-liga-champions?_ga=2.192495402.1411062473.1679575878-1860909170.1679368667')\n",
    "hal_84 = web_scraping('https://sport.detik.com/sepakbola/liga-spanyol/d-6618629/laliga-dukung-sikap-real-madrid-soal-kasus-suap-wasit-barcelona?_ga=2.192495402.1411062473.1679575878-1860909170.1679368667')\n",
    "hal_85 = web_scraping('https://sport.detik.com/sepakbola/liga-indonesia/d-6618624/piala-dunia-u-20-profil-timnas-israel-u-20-ngeri-ngeri-sedap?_ga=2.192495402.1411062473.1679575878-1860909170.1679368667')\n",
    "hal_86 = web_scraping('https://sport.detik.com/sepakbola/liga-indonesia/d-6618466/piala-dunia-u-20-2023-di-indonesia-profil-timnas-irak-u-20?_ga=2.192495402.1411062473.1679575878-1860909170.1679368667')\n",
    "hal_87 = web_scraping('https://sport.detik.com/sepakbola/liga-spanyol/d-6618600/skandal-suap-wasit-barcelona-bikin-malu-laliga?_ga=2.201382417.1411062473.1679575878-1860909170.1679368667')\n",
    "hal_88 = web_scraping('https://sport.detik.com/sepakbola/liga-indonesia/d-6618013/piala-dunia-u-20-2023-israel-main-di-stadion-kapten-i-wayan-dipta?_ga=2.201382417.1411062473.1679575878-1860909170.1679368667')\n",
    "hal_89 = web_scraping('https://sport.detik.com/sepakbola/gila-bola/d-6617703/pertama-di-liga-inggris-chelsea-ajak-buka-puasa-bersama-di-stamford-bridge?_ga=2.201382417.1411062473.1679575878-1860909170.1679368667')\n",
    "hal_90 = web_scraping('https://sport.detik.com/sepakbola/liga-indonesia/d-6617619/israel-akan-berlaga-di-piala-dunia-u-20-di-indonesia-ini-sikap-mui?_ga=2.201382417.1411062473.1679575878-1860909170.1679368667')\n",
    "hal_91 = web_scraping('https://sport.detik.com/sepakbola/liga-inggris/d-6617317/absennya-casemiro-pukulan-telak-buat-mu?_ga=2.201382417.1411062473.1679575878-1860909170.1679368667')\n",
    "hal_92 = web_scraping('https://sport.detik.com/sepakbola/liga-inggris/d-6617090/usai-laga-mu-vs-southampton-pemain-ini-kena-serangan-rasis?_ga=2.201382417.1411062473.1679575878-1860909170.1679368667')\n",
    "hal_93 = web_scraping('https://sport.detik.com/sepakbola/bola-dunia/d-6617088/eden-hazard-mantap-pensiun-dari-timnas-tidak-akan-comeback?_ga=2.201382417.1411062473.1679575878-1860909170.1679368667')\n",
    "hal_94 = web_scraping('https://sport.detik.com/sepakbola/liga-inggris/d-6617041/de-bruyne-menurun-coba-lihat-assist-nya?_ga=2.205725459.1411062473.1679575878-1860909170.1679368667')\n",
    "hal_95 = web_scraping('https://sport.detik.com/sepakbola/liga-inggris/d-6617016/casemiro-absen-4-laga-mu-kehilangan-obat-penenang?_ga=2.205725459.1411062473.1679575878-1860909170.1679368667')\n",
    "hal_96 = web_scraping('https://sport.detik.com/sepakbola/liga-indonesia/d-6616998/beres-konser-blackpink-sugbk-berbenah-jelang-kedatangan-fifa?_ga=2.205725459.1411062473.1679575878-1860909170.1679368667')\n",
    "hal_97 = web_scraping('https://sport.detik.com/sepakbola/liga-inggris/d-6616925/havertz-tajam-lagi-pacarnya-pun-lewati-masa-sulit?_ga=2.205725459.1411062473.1679575878-1860909170.1679368667')\n",
    "hal_98 = web_scraping('https://sport.detik.com/sepakbola/liga-indonesia/d-6616799/erick-thohir-larang-sugbk-dipakai-event-lagi-sebelum-piala-dunia-u-20?_ga=2.205725459.1411062473.1679575878-1860909170.1679368667')\n",
    "hal_99 = web_scraping('https://sport.detik.com/sepakbola/bola-dunia/d-6616746/misteri-messi-minta-gaji-rp-92-triliun-ke-al-hilal?_ga=2.205725459.1411062473.1679575878-1860909170.1679368667')\n",
    "hal_100 = web_scraping('https://sport.detik.com/sepakbola/bola-dunia/d-6616152/mengapa-argentina-gagal-lolos-ke-piala-dunia-u-20?_ga=2.205725459.1411062473.1679575878-1860909170.1679368667')\n",
    "\n"
   ]
  },
  {
   "cell_type": "code",
   "execution_count": 22,
   "metadata": {},
   "outputs": [
    {
     "data": {
      "text/html": [
       "<div>\n",
       "<style scoped>\n",
       "    .dataframe tbody tr th:only-of-type {\n",
       "        vertical-align: middle;\n",
       "    }\n",
       "\n",
       "    .dataframe tbody tr th {\n",
       "        vertical-align: top;\n",
       "    }\n",
       "\n",
       "    .dataframe thead th {\n",
       "        text-align: right;\n",
       "    }\n",
       "</style>\n",
       "<table border=\"1\" class=\"dataframe\">\n",
       "  <thead>\n",
       "    <tr style=\"text-align: right;\">\n",
       "      <th></th>\n",
       "      <th>judul</th>\n",
       "      <th>teks</th>\n",
       "    </tr>\n",
       "  </thead>\n",
       "  <tbody>\n",
       "    <tr>\n",
       "      <th>0</th>\n",
       "      <td>\\n        Oezil: El Clasico Sekarang Tak Seser...</td>\n",
       "      <td>\\nIstanbul - Eks bintang Real Madrid, Mesut Oe...</td>\n",
       "    </tr>\n",
       "  </tbody>\n",
       "</table>\n",
       "</div>"
      ],
      "text/plain": [
       "                                               judul  \\\n",
       "0  \\n        Oezil: El Clasico Sekarang Tak Seser...   \n",
       "\n",
       "                                                teks  \n",
       "0  \\nIstanbul - Eks bintang Real Madrid, Mesut Oe...  "
      ]
     },
     "execution_count": 22,
     "metadata": {},
     "output_type": "execute_result"
    }
   ],
   "source": [
    "hal_1"
   ]
  },
  {
   "cell_type": "code",
   "execution_count": 23,
   "metadata": {},
   "outputs": [],
   "source": [
    "df_news = pd.concat([hal_1, hal_2, hal_3, hal_4, hal_5, hal_6, hal_7, hal_8, hal_9, hal_10, hal_11, hal_12, hal_13, hal_14, hal_15, hal_16, hal_17, hal_18, hal_19, hal_20, hal_21, hal_22, hal_23, hal_24, hal_25, hal_26, hal_27, hal_28, hal_29, hal_30, hal_31, hal_32, hal_33, hal_34, hal_35, hal_36, hal_37, hal_38, hal_39, hal_40, hal_41, hal_42, hal_43, hal_44, hal_45, hal_46, hal_47, hal_48, hal_49, hal_50, hal_51, hal_52, hal_53, hal_54, hal_55, hal_56, hal_57, hal_58, hal_59, hal_60, hal_61, hal_62, hal_63, hal_64, hal_65, hal_66, hal_67, hal_68, hal_69, hal_70, hal_71, hal_72, hal_73, hal_74, hal_75, hal_76, hal_77, hal_78, hal_79, hal_80, hal_81, hal_82, hal_83, hal_84, hal_85, hal_86, hal_87, hal_88, hal_89, hal_90, hal_91, hal_92, hal_93, hal_94, hal_95, hal_96, hal_97, hal_98, hal_99, hal_100],axis=0,sort=False).reset_index()\n",
    "df_news.drop(columns=['index'], axis=1, inplace=True)"
   ]
  },
  {
   "cell_type": "code",
   "execution_count": 24,
   "metadata": {},
   "outputs": [
    {
     "data": {
      "text/html": [
       "<div>\n",
       "<style scoped>\n",
       "    .dataframe tbody tr th:only-of-type {\n",
       "        vertical-align: middle;\n",
       "    }\n",
       "\n",
       "    .dataframe tbody tr th {\n",
       "        vertical-align: top;\n",
       "    }\n",
       "\n",
       "    .dataframe thead th {\n",
       "        text-align: right;\n",
       "    }\n",
       "</style>\n",
       "<table border=\"1\" class=\"dataframe\">\n",
       "  <thead>\n",
       "    <tr style=\"text-align: right;\">\n",
       "      <th></th>\n",
       "      <th>judul</th>\n",
       "      <th>teks</th>\n",
       "    </tr>\n",
       "  </thead>\n",
       "  <tbody>\n",
       "    <tr>\n",
       "      <th>0</th>\n",
       "      <td>\\n        Oezil: El Clasico Sekarang Tak Seser...</td>\n",
       "      <td>\\nIstanbul - Eks bintang Real Madrid, Mesut Oe...</td>\n",
       "    </tr>\n",
       "    <tr>\n",
       "      <th>1</th>\n",
       "      <td>\\n        Gullit: Ten Hag Diuntungkan dengan K...</td>\n",
       "      <td>\\nAmsterdam - Legenda sepakbola Belanda Ruud G...</td>\n",
       "    </tr>\n",
       "    <tr>\n",
       "      <th>2</th>\n",
       "      <td>\\n        Gol Terjauh di Laga Bola? Dari Goal ...</td>\n",
       "      <td>\\nJakarta - Seorang kiper menjebol gawang tim ...</td>\n",
       "    </tr>\n",
       "    <tr>\n",
       "      <th>3</th>\n",
       "      <td>\\n        Saat Messi Pilih Dikepung Ratusan Or...</td>\n",
       "      <td>\\nBuenos Aires - Ada cerita menarik saat Lione...</td>\n",
       "    </tr>\n",
       "    <tr>\n",
       "      <th>4</th>\n",
       "      <td>\\n        Lindelof Minim Bermain, Ingin Tingga...</td>\n",
       "      <td>\\nStockholm - Bek tengah Manchester United Vic...</td>\n",
       "    </tr>\n",
       "    <tr>\n",
       "      <th>...</th>\n",
       "      <td>...</td>\n",
       "      <td>...</td>\n",
       "    </tr>\n",
       "    <tr>\n",
       "      <th>95</th>\n",
       "      <td>\\n        Beres Konser Blackpink, SUGBK Berben...</td>\n",
       "      <td>\\nJakarta - Lapangan Stadion Utama Gelora Bung...</td>\n",
       "    </tr>\n",
       "    <tr>\n",
       "      <th>96</th>\n",
       "      <td>\\n        Havertz Tajam Lagi, Pacarnya pun Lew...</td>\n",
       "      <td>\\nJakarta - Kai Havertz sudah mencetak gol ber...</td>\n",
       "    </tr>\n",
       "    <tr>\n",
       "      <th>97</th>\n",
       "      <td>\\n        Erick Thohir Larang SUGBK Dipakai Ev...</td>\n",
       "      <td>\\nJakarta - Ketua Umum PSSI sekaligus Ketua LO...</td>\n",
       "    </tr>\n",
       "    <tr>\n",
       "      <th>98</th>\n",
       "      <td>\\n        Misteri Messi Minta Gaji Rp 9,2 Tril...</td>\n",
       "      <td>\\nJakarta - Rumor Lionel Messi mau gabung ke k...</td>\n",
       "    </tr>\n",
       "    <tr>\n",
       "      <th>99</th>\n",
       "      <td>\\n        Mengapa Argentina Gagal Lolos ke Pia...</td>\n",
       "      <td>\\nJakarta - Piala Dunia U-20 sudah lengkap pes...</td>\n",
       "    </tr>\n",
       "  </tbody>\n",
       "</table>\n",
       "<p>100 rows × 2 columns</p>\n",
       "</div>"
      ],
      "text/plain": [
       "                                                judul  \\\n",
       "0   \\n        Oezil: El Clasico Sekarang Tak Seser...   \n",
       "1   \\n        Gullit: Ten Hag Diuntungkan dengan K...   \n",
       "2   \\n        Gol Terjauh di Laga Bola? Dari Goal ...   \n",
       "3   \\n        Saat Messi Pilih Dikepung Ratusan Or...   \n",
       "4   \\n        Lindelof Minim Bermain, Ingin Tingga...   \n",
       "..                                                ...   \n",
       "95  \\n        Beres Konser Blackpink, SUGBK Berben...   \n",
       "96  \\n        Havertz Tajam Lagi, Pacarnya pun Lew...   \n",
       "97  \\n        Erick Thohir Larang SUGBK Dipakai Ev...   \n",
       "98  \\n        Misteri Messi Minta Gaji Rp 9,2 Tril...   \n",
       "99  \\n        Mengapa Argentina Gagal Lolos ke Pia...   \n",
       "\n",
       "                                                 teks  \n",
       "0   \\nIstanbul - Eks bintang Real Madrid, Mesut Oe...  \n",
       "1   \\nAmsterdam - Legenda sepakbola Belanda Ruud G...  \n",
       "2   \\nJakarta - Seorang kiper menjebol gawang tim ...  \n",
       "3   \\nBuenos Aires - Ada cerita menarik saat Lione...  \n",
       "4   \\nStockholm - Bek tengah Manchester United Vic...  \n",
       "..                                                ...  \n",
       "95  \\nJakarta - Lapangan Stadion Utama Gelora Bung...  \n",
       "96  \\nJakarta - Kai Havertz sudah mencetak gol ber...  \n",
       "97  \\nJakarta - Ketua Umum PSSI sekaligus Ketua LO...  \n",
       "98  \\nJakarta - Rumor Lionel Messi mau gabung ke k...  \n",
       "99  \\nJakarta - Piala Dunia U-20 sudah lengkap pes...  \n",
       "\n",
       "[100 rows x 2 columns]"
      ]
     },
     "execution_count": 24,
     "metadata": {},
     "output_type": "execute_result"
    }
   ],
   "source": [
    "df_news.to_csv(\"sepakbola.csv\", index=False)\n",
    "df_news"
   ]
  },
  {
   "cell_type": "code",
   "execution_count": 116,
   "metadata": {},
   "outputs": [
    {
     "data": {
      "text/html": [
       "<div>\n",
       "<style scoped>\n",
       "    .dataframe tbody tr th:only-of-type {\n",
       "        vertical-align: middle;\n",
       "    }\n",
       "\n",
       "    .dataframe tbody tr th {\n",
       "        vertical-align: top;\n",
       "    }\n",
       "\n",
       "    .dataframe thead th {\n",
       "        text-align: right;\n",
       "    }\n",
       "</style>\n",
       "<table border=\"1\" class=\"dataframe\">\n",
       "  <thead>\n",
       "    <tr style=\"text-align: right;\">\n",
       "      <th></th>\n",
       "      <th>judul</th>\n",
       "      <th>teks</th>\n",
       "    </tr>\n",
       "  </thead>\n",
       "  <tbody>\n",
       "    <tr>\n",
       "      <th>0</th>\n",
       "      <td>\\n        Oezil: El Clasico Sekarang Tak Seser...</td>\n",
       "      <td>\\nIstanbul - Eks bintang Real Madrid, Mesut Oe...</td>\n",
       "    </tr>\n",
       "    <tr>\n",
       "      <th>1</th>\n",
       "      <td>\\n        Gullit: Ten Hag Diuntungkan dengan K...</td>\n",
       "      <td>\\nAmsterdam - Legenda sepakbola Belanda Ruud G...</td>\n",
       "    </tr>\n",
       "    <tr>\n",
       "      <th>2</th>\n",
       "      <td>\\n        Gol Terjauh di Laga Bola? Dari Goal ...</td>\n",
       "      <td>\\nJakarta - Seorang kiper menjebol gawang tim ...</td>\n",
       "    </tr>\n",
       "    <tr>\n",
       "      <th>3</th>\n",
       "      <td>\\n        Saat Messi Pilih Dikepung Ratusan Or...</td>\n",
       "      <td>\\nBuenos Aires - Ada cerita menarik saat Lione...</td>\n",
       "    </tr>\n",
       "    <tr>\n",
       "      <th>4</th>\n",
       "      <td>\\n        Lindelof Minim Bermain, Ingin Tingga...</td>\n",
       "      <td>\\nStockholm - Bek tengah Manchester United Vic...</td>\n",
       "    </tr>\n",
       "  </tbody>\n",
       "</table>\n",
       "</div>"
      ],
      "text/plain": [
       "                                               judul  \\\n",
       "0  \\n        Oezil: El Clasico Sekarang Tak Seser...   \n",
       "1  \\n        Gullit: Ten Hag Diuntungkan dengan K...   \n",
       "2  \\n        Gol Terjauh di Laga Bola? Dari Goal ...   \n",
       "3  \\n        Saat Messi Pilih Dikepung Ratusan Or...   \n",
       "4  \\n        Lindelof Minim Bermain, Ingin Tingga...   \n",
       "\n",
       "                                                teks  \n",
       "0  \\nIstanbul - Eks bintang Real Madrid, Mesut Oe...  \n",
       "1  \\nAmsterdam - Legenda sepakbola Belanda Ruud G...  \n",
       "2  \\nJakarta - Seorang kiper menjebol gawang tim ...  \n",
       "3  \\nBuenos Aires - Ada cerita menarik saat Lione...  \n",
       "4  \\nStockholm - Bek tengah Manchester United Vic...  "
      ]
     },
     "execution_count": 116,
     "metadata": {},
     "output_type": "execute_result"
    }
   ],
   "source": [
    "df_news = pd.read_csv('sepakbola.csv')\n",
    "df_news.head()"
   ]
  },
  {
   "cell_type": "markdown",
   "metadata": {},
   "source": [
    "Preparation"
   ]
  },
  {
   "cell_type": "code",
   "execution_count": 88,
   "metadata": {},
   "outputs": [],
   "source": [
    "def case_folding(data):\n",
    "    data = data.lower()\n",
    "    data = ' '.join(re.sub(\"(@[A-Za-z0-9]+)|([^0-9A-Za-z \\t])|(\\w+:\\/\\/\\S+)|(\\d+)\",\" \",data).split())\n",
    "    data = data.translate(str.maketrans(\"\",\"\",string.punctuation))\n",
    "    data = re.sub(r\"\\n\",\"\",data)\n",
    "    data = re.sub(r\"\\t\",\"\",data)\n",
    "    \n",
    "    return data\n"
   ]
  },
  {
   "cell_type": "code",
   "execution_count": 89,
   "metadata": {},
   "outputs": [],
   "source": [
    "def stopword_cleaner(data):\n",
    "    sw_indonesia = stopwords.words(\"indonesian\")\n",
    "    sw_english = stopwords.words(\"english\")\n",
    "    data  = [word for word in data if word not in sw_indonesia]\n",
    "    data  = [word for word in data if word not in sw_english]\n",
    "    data = ' '.join(data)\n",
    "    return data"
   ]
  },
  {
   "cell_type": "code",
   "execution_count": 91,
   "metadata": {},
   "outputs": [],
   "source": [
    "def stemmer_engine(data):\n",
    "    factory = SF()\n",
    "    stemmer = factory.create_stemmer()\n",
    "    data = stemmer.stem(data)\n",
    "    return data\n"
   ]
  },
  {
   "cell_type": "code",
   "execution_count": 93,
   "metadata": {},
   "outputs": [],
   "source": [
    "def slang_cleaner(data):\n",
    "    slang_list = [\n",
    "        (\"',\",\"\"),\n",
    "        (\"'\",\"\"),\n",
    "        (\"video\",\"\"),\n",
    "        ('\\n',''),\n",
    "        ('video',''),\n",
    "        ('advertisement',''),\n",
    "        (\"['\",''),\n",
    "        ('scroll',''),\n",
    "        ('resume',''),\n",
    "        ('baca',''),\n",
    "        ('content',''),\n",
    "        (\"']\",''),\n",
    "        ('[',''),\n",
    "        (']',''),\n",
    "        \n",
    "        \n",
    "    ]\n",
    "    \n",
    "    word_token = wordpunct_tokenize(data)\n",
    "    word_list = []\n",
    "    \n",
    "    for word in word_token:\n",
    "        for slang in slang_list:\n",
    "            if word.lower() in slang[0].lower():\n",
    "                word = slang[1]\n",
    "                break\n",
    "        word_list.append(word)\n",
    "    \n",
    "    data = ' '.join(word_list)\n",
    "    return data    "
   ]
  },
  {
   "cell_type": "code",
   "execution_count": 94,
   "metadata": {},
   "outputs": [],
   "source": [
    "import nltk"
   ]
  },
  {
   "cell_type": "code",
   "execution_count": 95,
   "metadata": {},
   "outputs": [],
   "source": [
    "def proses(data):\n",
    "    data = case_folding(data)\n",
    "    data = wordpunct_tokenize(data)\n",
    "    data = stopword_cleaner(data)\n",
    "    data = stemmer_engine(data)\n",
    "    return data"
   ]
  },
  {
   "cell_type": "code",
   "execution_count": 96,
   "metadata": {},
   "outputs": [],
   "source": [
    "df_news['clean'] = 'NaN'"
   ]
  },
  {
   "cell_type": "code",
   "execution_count": 97,
   "metadata": {},
   "outputs": [],
   "source": [
    "for index in range(len(df_news)):\n",
    "    df_news.iloc[index,0] = proses(df_news.iloc[index,0])\n",
    "    df_news.iloc[index,0] = slang_cleaner(df_news.iloc[index,0])\n",
    "    df_news.iloc[index,0] = proses(df_news.iloc[index,0])\n"
   ]
  },
  {
   "cell_type": "code",
   "execution_count": 98,
   "metadata": {},
   "outputs": [],
   "source": [
    "for index in range(len(df_news)):\n",
    "    df_news.iloc[index,2] = proses(df_news.iloc[index,1])\n",
    "    df_news.iloc[index,2] = slang_cleaner(df_news.iloc[index,2])\n",
    "    df_news.iloc[index,2] = proses(df_news.iloc[index,2])\n"
   ]
  },
  {
   "cell_type": "code",
   "execution_count": 99,
   "metadata": {},
   "outputs": [
    {
     "data": {
      "text/html": [
       "<div>\n",
       "<style scoped>\n",
       "    .dataframe tbody tr th:only-of-type {\n",
       "        vertical-align: middle;\n",
       "    }\n",
       "\n",
       "    .dataframe tbody tr th {\n",
       "        vertical-align: top;\n",
       "    }\n",
       "\n",
       "    .dataframe thead th {\n",
       "        text-align: right;\n",
       "    }\n",
       "</style>\n",
       "<table border=\"1\" class=\"dataframe\">\n",
       "  <thead>\n",
       "    <tr style=\"text-align: right;\">\n",
       "      <th></th>\n",
       "      <th>judul</th>\n",
       "      <th>teks</th>\n",
       "      <th>clean</th>\n",
       "    </tr>\n",
       "  </thead>\n",
       "  <tbody>\n",
       "    <tr>\n",
       "      <th>0</th>\n",
       "      <td>oezil el clasico seru</td>\n",
       "      <td>\\nIstanbul - Eks bintang Real Madrid, Mesut Oe...</td>\n",
       "      <td>istanbul eks bintang real madrid mesut oezil e...</td>\n",
       "    </tr>\n",
       "    <tr>\n",
       "      <th>1</th>\n",
       "      <td>gullit hag untung kontroversi ronaldo mu</td>\n",
       "      <td>\\nAmsterdam - Legenda sepakbola Belanda Ruud G...</td>\n",
       "      <td>amsterdam legenda sepakbola belanda ruud gulli...</td>\n",
       "    </tr>\n",
       "    <tr>\n",
       "      <th>2</th>\n",
       "      <td>gol laga bola goal kick kiper jebol gawang lawan</td>\n",
       "      <td>\\nJakarta - Seorang kiper menjebol gawang tim ...</td>\n",
       "      <td>jakarta kiper jebol gawang tim lawan tendang g...</td>\n",
       "    </tr>\n",
       "    <tr>\n",
       "      <th>3</th>\n",
       "      <td>messi pilih kepung ratus orang ketimbang kabur</td>\n",
       "      <td>\\nBuenos Aires - Ada cerita menarik saat Lione...</td>\n",
       "      <td>buenos aires cerita tarik lionel messi kepung ...</td>\n",
       "    </tr>\n",
       "    <tr>\n",
       "      <th>4</th>\n",
       "      <td>lindelof minim main tinggal mu</td>\n",
       "      <td>\\nStockholm - Bek tengah Manchester United Vic...</td>\n",
       "      <td>stockholm bek manchester united victor lindelo...</td>\n",
       "    </tr>\n",
       "    <tr>\n",
       "      <th>...</th>\n",
       "      <td>...</td>\n",
       "      <td>...</td>\n",
       "      <td>...</td>\n",
       "    </tr>\n",
       "    <tr>\n",
       "      <th>95</th>\n",
       "      <td>beres konser blackpink sugbk benah jelang fifa</td>\n",
       "      <td>\\nJakarta - Lapangan Stadion Utama Gelora Bung...</td>\n",
       "      <td>jakarta lapang stadion utama gelora karno sugb...</td>\n",
       "    </tr>\n",
       "    <tr>\n",
       "      <th>96</th>\n",
       "      <td>havertz tajam pacar sulit</td>\n",
       "      <td>\\nJakarta - Kai Havertz sudah mencetak gol ber...</td>\n",
       "      <td>jakarta kai havertz cetak gol untun chelsea ka...</td>\n",
       "    </tr>\n",
       "    <tr>\n",
       "      <th>97</th>\n",
       "      <td>erick thohir larang sugbk pakai event piala dunia</td>\n",
       "      <td>\\nJakarta - Ketua Umum PSSI sekaligus Ketua LO...</td>\n",
       "      <td>jakarta ketua pssi ketua loc piala dunia erick...</td>\n",
       "    </tr>\n",
       "    <tr>\n",
       "      <th>98</th>\n",
       "      <td>misteri messi gaji rp triliun al hilal</td>\n",
       "      <td>\\nJakarta - Rumor Lionel Messi mau gabung ke k...</td>\n",
       "      <td>jakarta rumor lionel messi gabung klub arab sa...</td>\n",
       "    </tr>\n",
       "    <tr>\n",
       "      <th>99</th>\n",
       "      <td>argentina gagal lolos piala dunia</td>\n",
       "      <td>\\nJakarta - Piala Dunia U-20 sudah lengkap pes...</td>\n",
       "      <td>jakarta piala dunia lengkap ajang indonesia ar...</td>\n",
       "    </tr>\n",
       "  </tbody>\n",
       "</table>\n",
       "<p>100 rows × 3 columns</p>\n",
       "</div>"
      ],
      "text/plain": [
       "                                                judul  \\\n",
       "0                               oezil el clasico seru   \n",
       "1            gullit hag untung kontroversi ronaldo mu   \n",
       "2    gol laga bola goal kick kiper jebol gawang lawan   \n",
       "3      messi pilih kepung ratus orang ketimbang kabur   \n",
       "4                      lindelof minim main tinggal mu   \n",
       "..                                                ...   \n",
       "95     beres konser blackpink sugbk benah jelang fifa   \n",
       "96                          havertz tajam pacar sulit   \n",
       "97  erick thohir larang sugbk pakai event piala dunia   \n",
       "98             misteri messi gaji rp triliun al hilal   \n",
       "99                  argentina gagal lolos piala dunia   \n",
       "\n",
       "                                                 teks  \\\n",
       "0   \\nIstanbul - Eks bintang Real Madrid, Mesut Oe...   \n",
       "1   \\nAmsterdam - Legenda sepakbola Belanda Ruud G...   \n",
       "2   \\nJakarta - Seorang kiper menjebol gawang tim ...   \n",
       "3   \\nBuenos Aires - Ada cerita menarik saat Lione...   \n",
       "4   \\nStockholm - Bek tengah Manchester United Vic...   \n",
       "..                                                ...   \n",
       "95  \\nJakarta - Lapangan Stadion Utama Gelora Bung...   \n",
       "96  \\nJakarta - Kai Havertz sudah mencetak gol ber...   \n",
       "97  \\nJakarta - Ketua Umum PSSI sekaligus Ketua LO...   \n",
       "98  \\nJakarta - Rumor Lionel Messi mau gabung ke k...   \n",
       "99  \\nJakarta - Piala Dunia U-20 sudah lengkap pes...   \n",
       "\n",
       "                                                clean  \n",
       "0   istanbul eks bintang real madrid mesut oezil e...  \n",
       "1   amsterdam legenda sepakbola belanda ruud gulli...  \n",
       "2   jakarta kiper jebol gawang tim lawan tendang g...  \n",
       "3   buenos aires cerita tarik lionel messi kepung ...  \n",
       "4   stockholm bek manchester united victor lindelo...  \n",
       "..                                                ...  \n",
       "95  jakarta lapang stadion utama gelora karno sugb...  \n",
       "96  jakarta kai havertz cetak gol untun chelsea ka...  \n",
       "97  jakarta ketua pssi ketua loc piala dunia erick...  \n",
       "98  jakarta rumor lionel messi gabung klub arab sa...  \n",
       "99  jakarta piala dunia lengkap ajang indonesia ar...  \n",
       "\n",
       "[100 rows x 3 columns]"
      ]
     },
     "metadata": {},
     "output_type": "display_data"
    }
   ],
   "source": [
    "display(df_news)"
   ]
  },
  {
   "cell_type": "code",
   "execution_count": 101,
   "metadata": {},
   "outputs": [],
   "source": [
    "df_news.to_csv(\"sepakbola_clean.csv\", index=False)"
   ]
  },
  {
   "cell_type": "code",
   "execution_count": 102,
   "metadata": {},
   "outputs": [],
   "source": [
    "df_news.name = 'news'"
   ]
  },
  {
   "cell_type": "code",
   "execution_count": 103,
   "metadata": {},
   "outputs": [],
   "source": [
    "def char_freq_distribution(data):\n",
    "    bin = np.arange(0,260,10)\n",
    "    data[\"clean\"].str.len().hist(bins=bin)\n",
    "    if data.name == 'tweet':\n",
    "        judul = 'Tweet'\n",
    "    else :\n",
    "        judul = 'News'\n",
    "    plt.xlabel('Jumlah Huruf per Kata')\n",
    "    plt.title(f'Distribusi Frekuensi Huruf Data {judul}')\n",
    "    plt.show()"
   ]
  },
  {
   "cell_type": "code",
   "execution_count": 104,
   "metadata": {},
   "outputs": [],
   "source": [
    "def word_len_freq_distribution(data):\n",
    "    bin_range = np.arange(0, 50)\n",
    "    data['clean'].str.split().map(lambda x: len(x)).hist(bins=bin_range)\n",
    "    if data.name == 'tweet':\n",
    "        judul = 'Tweet'\n",
    "    else :\n",
    "        judul = 'News'\n",
    "    plt.xlabel(f'Jumlah Kata per {judul} ')\n",
    "    plt.title(f'Distribusi Frekuensi Kata Data {judul}')\n",
    "    plt.show()\n",
    "    "
   ]
  },
  {
   "cell_type": "code",
   "execution_count": 105,
   "metadata": {},
   "outputs": [],
   "source": [
    "def mean_words_freq_distribution(data):\n",
    "    data['clean'].str.split().apply(lambda x : [len(i) for i in x]).map(lambda x: np.mean(x)).hist()\n",
    "    if data.name == 'tweet':\n",
    "        judul = 'Tweet'\n",
    "    else :\n",
    "        judul = 'News'\n",
    "    plt.xlabel(f'Panjang Kata Rata-Rata per {judul} ')\n",
    "    plt.title(f'Distribusi Frekuensi Panjang Kata Rata-Rata Data {judul}')\n",
    "    plt.show()   "
   ]
  },
  {
   "cell_type": "code",
   "execution_count": null,
   "metadata": {},
   "outputs": [],
   "source": [
    "def words_freq_distribution(data):\n",
    "    data['clean'] = data['clean'].apply(lambda x: wordpunct_tokenize(str(x)))\n",
    "    tweets = [word for tweet in data[\"clean\"] for word in tweet]\n",
    "    fqdist = FreqDist(tweets)\n",
    "    most_common_word = fqdist.most_common(50)\n",
    "    print(most_common_word)\n",
    "    if data.name == 'tweet':\n",
    "        judul = 'Tweet'\n",
    "    else :\n",
    "        judul = 'News'\n",
    "    plt.xlabel(f'Frekuensi Kata {judul} ')\n",
    "    plt.title(f'Distribusi Frekuensi Kata Data {judul}')\n",
    "    fqdist.plot(100,cumulative=False)\n",
    "    return most_common_word, tweets"
   ]
  },
  {
   "cell_type": "code",
   "execution_count": 107,
   "metadata": {},
   "outputs": [],
   "source": [
    "def bigram_analysis (data):\n",
    "    tweets = [word for tweet in data['clean'] for word in tweet]\n",
    "    result = pd.Series(nltk.ngrams(tweets, 2)).value_counts()[:20]\n",
    "    print(result)"
   ]
  },
  {
   "cell_type": "markdown",
   "metadata": {},
   "source": [
    "##### - Distribusi Frekuensi Jumlah Huruf\n",
    "##### Pada grafik distribusi frekuensi jumlah huruf pada masing-masing dataframe dapat dilihat bahwa jumlah huruf per kata pada tweet terbanyak yaitu 110 huruf, dan pada data News/judul berita terbanyak sekitar 60 - 70 huruf per kata. "
   ]
  },
  {
   "cell_type": "code",
   "execution_count": 108,
   "metadata": {},
   "outputs": [
    {
     "data": {
      "image/png": "[encoded data removed]",
      "text/plain": [
       "<Figure size 640x480 with 1 Axes>"
      ]
     },
     "metadata": {},
     "output_type": "display_data"
    }
   ],
   "source": [
    "char_freq_distribution(df_news)"
   ]
  },
  {
   "cell_type": "markdown",
   "metadata": {},
   "source": [
    "##### - Distribusi Frekuensi Jumlah Kata\n",
    "##### Pada grafik distribusi frekuensi jumlah kata pada masing-masing dataframe dapat dilihat bahwa jumlah kata pada tweet terbanyak di sekitar 15 - 18 kata, dan pada data News/judul berita terbanyak di sekitar 10 - 11 kata. "
   ]
  },
  {
   "cell_type": "code",
   "execution_count": 109,
   "metadata": {},
   "outputs": [
    {
     "data": {
      "image/png": "[encoded data removed]",
      "text/plain": [
       "<Figure size 640x480 with 1 Axes>"
      ]
     },
     "metadata": {},
     "output_type": "display_data"
    }
   ],
   "source": [
    "word_len_freq_distribution(df_news)"
   ]
  },
  {
   "cell_type": "markdown",
   "metadata": {},
   "source": [
    "##### - Distribusi Frekuensi Panjang Rata-Rata Kata\n",
    "##### Pada grafik distribusi frekuensi panjang rata-rata kata pada masing-masing dataframe dapat dilihat bahwa rata-rata kata pada tweet antara 5 - 6 kata pertweet, dan pada data News/judul berita antara 5 - 5.5 kata per judul. "
   ]
  },
  {
   "cell_type": "code",
   "execution_count": 110,
   "metadata": {},
   "outputs": [
    {
     "data": {
      "image/png": "[encoded data removed]",
      "text/plain": [
       "<Figure size 640x480 with 1 Axes>"
      ]
     },
     "metadata": {},
     "output_type": "display_data"
    }
   ],
   "source": [
    "mean_words_freq_distribution(df_news)"
   ]
  },
  {
   "cell_type": "markdown",
   "metadata": {},
   "source": [
    "##### - Distribusi Frekuensi Kata yang Sering Keluar\n",
    "##### Pada grafik distribusi frekuensi 50 kata yang paling sering keluar pada masing-masing dataframe dapat dilihat bahwa kata yang paling sering keluar pada data tweet adalah sumur, resap, anies, gagal, total, baswedan, jakarta, jalan, dst dan pada data News/judul adalah sumur, resap, lurah, lebak, bulus,bohong, jakarta, mobil, dst. "
   ]
  },
  {
   "cell_type": "code",
   "execution_count": 115,
   "metadata": {},
   "outputs": [
    {
     "ename": "KeyError",
     "evalue": "'clean'",
     "output_type": "error",
     "traceback": [
      "\u001b[1;31m---------------------------------------------------------------------------\u001b[0m",
      "\u001b[1;31mKeyError\u001b[0m                                  Traceback (most recent call last)",
      "\u001b[1;32mc:\\Users\\itqon\\anaconda3\\lib\\site-packages\\pandas\\core\\indexes\\base.py\u001b[0m in \u001b[0;36mget_loc\u001b[1;34m(self, key, method, tolerance)\u001b[0m\n\u001b[0;32m   3628\u001b[0m             \u001b[1;32mtry\u001b[0m\u001b[1;33m:\u001b[0m\u001b[1;33m\u001b[0m\u001b[1;33m\u001b[0m\u001b[0m\n\u001b[1;32m-> 3629\u001b[1;33m                 \u001b[1;32mreturn\u001b[0m \u001b[0mself\u001b[0m\u001b[1;33m.\u001b[0m\u001b[0m_engine\u001b[0m\u001b[1;33m.\u001b[0m\u001b[0mget_loc\u001b[0m\u001b[1;33m(\u001b[0m\u001b[0mcasted_key\u001b[0m\u001b[1;33m)\u001b[0m\u001b[1;33m\u001b[0m\u001b[1;33m\u001b[0m\u001b[0m\n\u001b[0m\u001b[0;32m   3630\u001b[0m             \u001b[1;32mexcept\u001b[0m \u001b[0mKeyError\u001b[0m \u001b[1;32mas\u001b[0m \u001b[0merr\u001b[0m\u001b[1;33m:\u001b[0m\u001b[1;33m\u001b[0m\u001b[1;33m\u001b[0m\u001b[0m\n",
      "\u001b[1;32mc:\\Users\\itqon\\anaconda3\\lib\\site-packages\\pandas\\_libs\\index.pyx\u001b[0m in \u001b[0;36mpandas._libs.index.IndexEngine.get_loc\u001b[1;34m()\u001b[0m\n",
      "\u001b[1;32mc:\\Users\\itqon\\anaconda3\\lib\\site-packages\\pandas\\_libs\\index.pyx\u001b[0m in \u001b[0;36mpandas._libs.index.IndexEngine.get_loc\u001b[1;34m()\u001b[0m\n",
      "\u001b[1;32mpandas\\_libs\\hashtable_class_helper.pxi\u001b[0m in \u001b[0;36mpandas._libs.hashtable.PyObjectHashTable.get_item\u001b[1;34m()\u001b[0m\n",
      "\u001b[1;32mpandas\\_libs\\hashtable_class_helper.pxi\u001b[0m in \u001b[0;36mpandas._libs.hashtable.PyObjectHashTable.get_item\u001b[1;34m()\u001b[0m\n",
      "\u001b[1;31mKeyError\u001b[0m: 'clean'",
      "\nThe above exception was the direct cause of the following exception:\n",
      "\u001b[1;31mKeyError\u001b[0m                                  Traceback (most recent call last)",
      "\u001b[1;32m~\\AppData\\Local\\Temp\\ipykernel_14732\\1965161368.py\u001b[0m in \u001b[0;36m<module>\u001b[1;34m\u001b[0m\n\u001b[1;32m----> 1\u001b[1;33m \u001b[0mwords_freq_distribution\u001b[0m\u001b[1;33m(\u001b[0m\u001b[0mdf_news\u001b[0m\u001b[1;33m)\u001b[0m\u001b[1;33m\u001b[0m\u001b[1;33m\u001b[0m\u001b[0m\n\u001b[0m",
      "\u001b[1;32m~\\AppData\\Local\\Temp\\ipykernel_14732\\4006877937.py\u001b[0m in \u001b[0;36mwords_freq_distribution\u001b[1;34m(data)\u001b[0m\n\u001b[0;32m      1\u001b[0m \u001b[1;32mdef\u001b[0m \u001b[0mwords_freq_distribution\u001b[0m\u001b[1;33m(\u001b[0m\u001b[0mdata\u001b[0m\u001b[1;33m)\u001b[0m\u001b[1;33m:\u001b[0m\u001b[1;33m\u001b[0m\u001b[1;33m\u001b[0m\u001b[0m\n\u001b[1;32m----> 2\u001b[1;33m     \u001b[0mdata\u001b[0m\u001b[1;33m[\u001b[0m\u001b[1;34m'clean'\u001b[0m\u001b[1;33m]\u001b[0m \u001b[1;33m=\u001b[0m \u001b[0mdata\u001b[0m\u001b[1;33m[\u001b[0m\u001b[1;34m'clean'\u001b[0m\u001b[1;33m]\u001b[0m\u001b[1;33m.\u001b[0m\u001b[0mapply\u001b[0m\u001b[1;33m(\u001b[0m\u001b[1;32mlambda\u001b[0m \u001b[0mx\u001b[0m\u001b[1;33m:\u001b[0m \u001b[0mwordpunct_tokenize\u001b[0m\u001b[1;33m(\u001b[0m\u001b[0mstr\u001b[0m\u001b[1;33m(\u001b[0m\u001b[0mx\u001b[0m\u001b[1;33m)\u001b[0m\u001b[1;33m)\u001b[0m\u001b[1;33m)\u001b[0m\u001b[1;33m\u001b[0m\u001b[1;33m\u001b[0m\u001b[0m\n\u001b[0m\u001b[0;32m      3\u001b[0m     \u001b[0mtweets\u001b[0m \u001b[1;33m=\u001b[0m \u001b[1;33m[\u001b[0m\u001b[0mword\u001b[0m \u001b[1;32mfor\u001b[0m \u001b[0mtweet\u001b[0m \u001b[1;32min\u001b[0m \u001b[0mdata\u001b[0m\u001b[1;33m[\u001b[0m\u001b[1;34m\"clean\"\u001b[0m\u001b[1;33m]\u001b[0m \u001b[1;32mfor\u001b[0m \u001b[0mword\u001b[0m \u001b[1;32min\u001b[0m \u001b[0mtweet\u001b[0m\u001b[1;33m]\u001b[0m\u001b[1;33m\u001b[0m\u001b[1;33m\u001b[0m\u001b[0m\n\u001b[0;32m      4\u001b[0m     \u001b[0mfqdist\u001b[0m \u001b[1;33m=\u001b[0m \u001b[0mFreqDist\u001b[0m\u001b[1;33m(\u001b[0m\u001b[0mtweets\u001b[0m\u001b[1;33m)\u001b[0m\u001b[1;33m\u001b[0m\u001b[1;33m\u001b[0m\u001b[0m\n\u001b[0;32m      5\u001b[0m     \u001b[0mmost_common_word\u001b[0m \u001b[1;33m=\u001b[0m \u001b[0mfqdist\u001b[0m\u001b[1;33m.\u001b[0m\u001b[0mmost_common\u001b[0m\u001b[1;33m(\u001b[0m\u001b[1;36m50\u001b[0m\u001b[1;33m)\u001b[0m\u001b[1;33m\u001b[0m\u001b[1;33m\u001b[0m\u001b[0m\n",
      "\u001b[1;32mc:\\Users\\itqon\\anaconda3\\lib\\site-packages\\pandas\\core\\frame.py\u001b[0m in \u001b[0;36m__getitem__\u001b[1;34m(self, key)\u001b[0m\n\u001b[0;32m   3503\u001b[0m             \u001b[1;32mif\u001b[0m \u001b[0mself\u001b[0m\u001b[1;33m.\u001b[0m\u001b[0mcolumns\u001b[0m\u001b[1;33m.\u001b[0m\u001b[0mnlevels\u001b[0m \u001b[1;33m>\u001b[0m \u001b[1;36m1\u001b[0m\u001b[1;33m:\u001b[0m\u001b[1;33m\u001b[0m\u001b[1;33m\u001b[0m\u001b[0m\n\u001b[0;32m   3504\u001b[0m                 \u001b[1;32mreturn\u001b[0m \u001b[0mself\u001b[0m\u001b[1;33m.\u001b[0m\u001b[0m_getitem_multilevel\u001b[0m\u001b[1;33m(\u001b[0m\u001b[0mkey\u001b[0m\u001b[1;33m)\u001b[0m\u001b[1;33m\u001b[0m\u001b[1;33m\u001b[0m\u001b[0m\n\u001b[1;32m-> 3505\u001b[1;33m             \u001b[0mindexer\u001b[0m \u001b[1;33m=\u001b[0m \u001b[0mself\u001b[0m\u001b[1;33m.\u001b[0m\u001b[0mcolumns\u001b[0m\u001b[1;33m.\u001b[0m\u001b[0mget_loc\u001b[0m\u001b[1;33m(\u001b[0m\u001b[0mkey\u001b[0m\u001b[1;33m)\u001b[0m\u001b[1;33m\u001b[0m\u001b[1;33m\u001b[0m\u001b[0m\n\u001b[0m\u001b[0;32m   3506\u001b[0m             \u001b[1;32mif\u001b[0m \u001b[0mis_integer\u001b[0m\u001b[1;33m(\u001b[0m\u001b[0mindexer\u001b[0m\u001b[1;33m)\u001b[0m\u001b[1;33m:\u001b[0m\u001b[1;33m\u001b[0m\u001b[1;33m\u001b[0m\u001b[0m\n\u001b[0;32m   3507\u001b[0m                 \u001b[0mindexer\u001b[0m \u001b[1;33m=\u001b[0m \u001b[1;33m[\u001b[0m\u001b[0mindexer\u001b[0m\u001b[1;33m]\u001b[0m\u001b[1;33m\u001b[0m\u001b[1;33m\u001b[0m\u001b[0m\n",
      "\u001b[1;32mc:\\Users\\itqon\\anaconda3\\lib\\site-packages\\pandas\\core\\indexes\\base.py\u001b[0m in \u001b[0;36mget_loc\u001b[1;34m(self, key, method, tolerance)\u001b[0m\n\u001b[0;32m   3629\u001b[0m                 \u001b[1;32mreturn\u001b[0m \u001b[0mself\u001b[0m\u001b[1;33m.\u001b[0m\u001b[0m_engine\u001b[0m\u001b[1;33m.\u001b[0m\u001b[0mget_loc\u001b[0m\u001b[1;33m(\u001b[0m\u001b[0mcasted_key\u001b[0m\u001b[1;33m)\u001b[0m\u001b[1;33m\u001b[0m\u001b[1;33m\u001b[0m\u001b[0m\n\u001b[0;32m   3630\u001b[0m             \u001b[1;32mexcept\u001b[0m \u001b[0mKeyError\u001b[0m \u001b[1;32mas\u001b[0m \u001b[0merr\u001b[0m\u001b[1;33m:\u001b[0m\u001b[1;33m\u001b[0m\u001b[1;33m\u001b[0m\u001b[0m\n\u001b[1;32m-> 3631\u001b[1;33m                 \u001b[1;32mraise\u001b[0m \u001b[0mKeyError\u001b[0m\u001b[1;33m(\u001b[0m\u001b[0mkey\u001b[0m\u001b[1;33m)\u001b[0m \u001b[1;32mfrom\u001b[0m \u001b[0merr\u001b[0m\u001b[1;33m\u001b[0m\u001b[1;33m\u001b[0m\u001b[0m\n\u001b[0m\u001b[0;32m   3632\u001b[0m             \u001b[1;32mexcept\u001b[0m \u001b[0mTypeError\u001b[0m\u001b[1;33m:\u001b[0m\u001b[1;33m\u001b[0m\u001b[1;33m\u001b[0m\u001b[0m\n\u001b[0;32m   3633\u001b[0m                 \u001b[1;31m# If we have a listlike key, _check_indexing_error will raise\u001b[0m\u001b[1;33m\u001b[0m\u001b[1;33m\u001b[0m\u001b[0m\n",
      "\u001b[1;31mKeyError\u001b[0m: 'clean'"
     ]
    }
   ],
   "source": [
    "words_freq_distribution(df_news)"
   ]
  },
  {
   "cell_type": "markdown",
   "metadata": {},
   "source": [
    "##### - Distribusi N-gram.\n",
    "##### Pada output analisis bigram di bawah, dapat dilihat bahwa pada data tweet kata berpasangan yang paling sering keluar adalah sumur-resap, gagal-total, anies-gagal, anies-baswedan, gubernur-jakarta, total-sumur, anggar-sumur, dst. Lalu, pada data news kata berpasangan yang paling sering keluar adalah sumur-resap, bulus-bohong, lebak-bulus, lurah-lebak, dst.\n",
    "##### Pada output ini dapat dilihat gambaran awalnya data bahwa pada data tweet lebih membahas pada kegagalan anies dalam menjalankan program sumur resapan, dan pada data news lebih membahas pada lurah lebak bulus yang berbohong, dan sebagainya."
   ]
  },
  {
   "cell_type": "code",
   "execution_count": 112,
   "metadata": {},
   "outputs": [
    {
     "name": "stdout",
     "output_type": "stream",
     "text": [
      "(piala, dunia)           196\n",
      "(real, madrid)            88\n",
      "(liga, champions)         64\n",
      "(erick, thohir)           56\n",
      "(gambas, detik)           54\n",
      "(manchester, united)      47\n",
      "(tuan, rumah)             38\n",
      "(liga, inggris)           33\n",
      "(manchester, city)        32\n",
      "(el, clasico)             30\n",
      "(lionel, messi)           29\n",
      "(arab, saudi)             27\n",
      "(perempatfinal, liga)     26\n",
      "(man, city)               25\n",
      "(cristiano, ronaldo)      23\n",
      "(timnas, indonesia)       23\n",
      "(premier, league)         22\n",
      "(dunia, indonesia)        21\n",
      "(kartu, merah)            21\n",
      "(inter, mil)              20\n",
      "dtype: int64\n"
     ]
    }
   ],
   "source": [
    "bigram_analysis(df_news)"
   ]
  }
 ],
 "metadata": {
  "kernelspec": {
   "display_name": "base",
   "language": "python",
   "name": "python3"
  },
  "language_info": {
   "codemirror_mode": {
    "name": "ipython",
    "version": 3
   },
   "file_extension": ".py",
   "mimetype": "text/x-python",
   "name": "python",
   "nbconvert_exporter": "python",
   "pygments_lexer": "ipython3",
   "version": "3.9.13"
  },
  "orig_nbformat": 4
 },
 "nbformat": 4,
 "nbformat_minor": 2
}
