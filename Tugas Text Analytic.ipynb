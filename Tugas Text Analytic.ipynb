{
 "cells": [
  {
   "attachments": {},
   "cell_type": "markdown",
   "metadata": {},
   "source": [
    "# <h1><center><span style=\"color:white\">**TUGAS TEXT ANALYTIC**</span></center></h1>\n",
    "# <h1><center><span style=\"color:white\">**Crawling Twitter Data Text**</span></center></h1>\n",
    "# <center><span style='color:white'>Muhammad Hasan Itqoni</span></center>"
   ]
  },
  {
   "attachments": {},
   "cell_type": "markdown",
   "metadata": {},
   "source": [
    "### Pada kesempatan kali ini saya akan mengambil data text yang dari Twitter mengenai salah satu tokoh politik yang sedang ramai dibicarakan yaitu Anies Baswedan. Data yang diambil adalah data text berupa respon pengguna Twitter yaitu retweet tentang Anies Baswedan selama seminggu terakhir sebanyak 1000 tweet.\n",
    "##### 5 Februari 2023"
   ]
  },
  {
   "cell_type": "code",
   "execution_count": 1,
   "metadata": {},
   "outputs": [],
   "source": [
    "# Import Library\n",
    "import pandas as pd\n",
    "import json, tweepy"
   ]
  },
  {
   "cell_type": "code",
   "execution_count": 2,
   "metadata": {},
   "outputs": [],
   "source": [
    "# Membuat class untuk mengakses token pada file token.json\n",
    "class tweetsGrabber:\n",
    "  def __init__(self):\n",
    "    with open(\"token.json\")as f:\n",
    "      tokens = json.load(f)\n",
    "\n",
    "    self.bearer_token = tokens['bearer_token']\n",
    "    self.api_key = tokens['api_key']\n",
    "    self.api_key_secret = tokens['api_key_secret']\n",
    "    self.access_token = tokens['access_token']\n",
    "    self.access_token_secret = tokens['access_token_secret']"
   ]
  },
  {
   "cell_type": "code",
   "execution_count": 3,
   "metadata": {},
   "outputs": [],
   "source": [
    "# Membuat class untuk mengambil tweet\n",
    "class api(tweetsGrabber):  \n",
    "  def auth_handler(self):\n",
    "    self.api_2 = tweepy.Client(bearer_token=self.bearer_token, wait_on_rate_limit=True)\n",
    "    return self.api_2\n",
    "\n",
    "  def search_scraper(self, query, max_result):\n",
    "    response = tweepy.Paginator(self.auth_handler().search_recent_tweets,\n",
    "                             query = query,\n",
    "                             max_results=100,\n",
    "                             expansions = [\"author_id\"]\n",
    "                             ).flatten(limit=max_result)\n",
    "    \n",
    "    result = [tweet.text.strip() for tweet in response]\n",
    "    return result"
   ]
  },
  {
   "cell_type": "code",
   "execution_count": 4,
   "metadata": {},
   "outputs": [],
   "source": [
    "api_twitter = api()"
   ]
  },
  {
   "cell_type": "code",
   "execution_count": 5,
   "metadata": {},
   "outputs": [],
   "source": [
    "# Mengambil 1000 retweet\n",
    "query = \"anies baswedan -is:retweet\"\n",
    "max_result = 1000\n",
    "\n",
    "tweets = api_twitter.search_scraper(query, max_result)"
   ]
  },
  {
   "cell_type": "code",
   "execution_count": 6,
   "metadata": {},
   "outputs": [],
   "source": [
    "# Menjadikan tweet ke dalam sebuah dataframe \n",
    "result_tweets = [tweet for tweet in tweets]\n",
    "\n",
    "df_tweet = pd.DataFrame(result_tweets, columns=['tweet'])"
   ]
  },
  {
   "cell_type": "markdown",
   "metadata": {},
   "source": [
    "#### DATA FRAME 1000 TWEET YANG SUDAH DIAMBIL"
   ]
  },
  {
   "cell_type": "code",
   "execution_count": 7,
   "metadata": {},
   "outputs": [
    {
     "data": {
      "text/html": [
       "<div>\n",
       "<style scoped>\n",
       "    .dataframe tbody tr th:only-of-type {\n",
       "        vertical-align: middle;\n",
       "    }\n",
       "\n",
       "    .dataframe tbody tr th {\n",
       "        vertical-align: top;\n",
       "    }\n",
       "\n",
       "    .dataframe thead th {\n",
       "        text-align: right;\n",
       "    }\n",
       "</style>\n",
       "<table border=\"1\" class=\"dataframe\">\n",
       "  <thead>\n",
       "    <tr style=\"text-align: right;\">\n",
       "      <th></th>\n",
       "      <th>tweet</th>\n",
       "    </tr>\n",
       "  </thead>\n",
       "  <tbody>\n",
       "    <tr>\n",
       "      <th>0</th>\n",
       "      <td>KH Ali Yafie Sebelum Wafat Hadiahi Anies Baswe...</td>\n",
       "    </tr>\n",
       "    <tr>\n",
       "      <th>1</th>\n",
       "      <td>Pengaruh Jokowi, Kepung Ruang Gerak Anies Basw...</td>\n",
       "    </tr>\n",
       "    <tr>\n",
       "      <th>2</th>\n",
       "      <td>Dimulai dengan Pantun Manies dari Pak Anies Ba...</td>\n",
       "    </tr>\n",
       "    <tr>\n",
       "      <th>3</th>\n",
       "      <td>Heru mempersilakan siapa saja untuk menggunaka...</td>\n",
       "    </tr>\n",
       "    <tr>\n",
       "      <th>4</th>\n",
       "      <td>Pengaruh Jokowi, Kepung Ruang Gerak Anies Basw...</td>\n",
       "    </tr>\n",
       "    <tr>\n",
       "      <th>...</th>\n",
       "      <td>...</td>\n",
       "    </tr>\n",
       "    <tr>\n",
       "      <th>995</th>\n",
       "      <td>👍 JIKA PEMIMPIN  PASANG BADAN BUAT RAKYAT MAKA...</td>\n",
       "    </tr>\n",
       "    <tr>\n",
       "      <th>996</th>\n",
       "      <td>Tiket Anies Baswedan untuk maju di Pilpres 202...</td>\n",
       "    </tr>\n",
       "    <tr>\n",
       "      <th>997</th>\n",
       "      <td>Tiket Anies Baswedan untuk maju di Pilpres 202...</td>\n",
       "    </tr>\n",
       "    <tr>\n",
       "      <th>998</th>\n",
       "      <td>Tiket Anies Baswedan untuk maju di Pilpres 202...</td>\n",
       "    </tr>\n",
       "    <tr>\n",
       "      <th>999</th>\n",
       "      <td>Surat Terbuka kepada Anies Baswedan https://t....</td>\n",
       "    </tr>\n",
       "  </tbody>\n",
       "</table>\n",
       "<p>1000 rows × 1 columns</p>\n",
       "</div>"
      ],
      "text/plain": [
       "                                                 tweet\n",
       "0    KH Ali Yafie Sebelum Wafat Hadiahi Anies Baswe...\n",
       "1    Pengaruh Jokowi, Kepung Ruang Gerak Anies Basw...\n",
       "2    Dimulai dengan Pantun Manies dari Pak Anies Ba...\n",
       "3    Heru mempersilakan siapa saja untuk menggunaka...\n",
       "4    Pengaruh Jokowi, Kepung Ruang Gerak Anies Basw...\n",
       "..                                                 ...\n",
       "995  👍 JIKA PEMIMPIN  PASANG BADAN BUAT RAKYAT MAKA...\n",
       "996  Tiket Anies Baswedan untuk maju di Pilpres 202...\n",
       "997  Tiket Anies Baswedan untuk maju di Pilpres 202...\n",
       "998  Tiket Anies Baswedan untuk maju di Pilpres 202...\n",
       "999  Surat Terbuka kepada Anies Baswedan https://t....\n",
       "\n",
       "[1000 rows x 1 columns]"
      ]
     },
     "execution_count": 7,
     "metadata": {},
     "output_type": "execute_result"
    }
   ],
   "source": [
    "df_tweet"
   ]
  },
  {
   "cell_type": "code",
   "execution_count": 8,
   "metadata": {},
   "outputs": [],
   "source": [
    "# Menyimpan dataframe yang sudah dibuat ke sebuah file csv\n",
    "df_tweet.to_csv(\"anies_baswedan.csv\", index=False)"
   ]
  },
  {
   "attachments": {},
   "cell_type": "markdown",
   "metadata": {},
   "source": [
    "### Terima Kasih"
   ]
  }
 ],
 "metadata": {
  "kernelspec": {
   "display_name": "base",
   "language": "python",
   "name": "python3"
  },
  "language_info": {
   "codemirror_mode": {
    "name": "ipython",
    "version": 3
   },
   "file_extension": ".py",
   "mimetype": "text/x-python",
   "name": "python",
   "nbconvert_exporter": "python",
   "pygments_lexer": "ipython3",
   "version": "3.9.13"
  },
  "orig_nbformat": 4,
  "vscode": {
   "interpreter": {
    "hash": "7a199f0e51e81a2cf9ce022bcfb358d7dd1ab1addb0ea2f0a108e99d0fdb0138"
   }
  }
 },
 "nbformat": 4,
 "nbformat_minor": 2
}
